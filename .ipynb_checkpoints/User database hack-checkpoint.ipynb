{
 "cells": [
  {
   "cell_type": "code",
   "execution_count": 26,
   "metadata": {},
   "outputs": [],
   "source": [
    "import keras \n",
    "from keras import *\n",
    "from keras.models import load_model\n",
    "import numpy as np\n",
    "import tensorflow as tf\n",
    "\n",
    "import pickle\n",
    "import cv2\n",
    "import os.path\n",
    "from utility import img_to_encoding, resize_img\n",
    "from collections import defaultdict\n",
    "from webcam_utility import *"
   ]
  },
  {
   "cell_type": "code",
   "execution_count": 15,
   "metadata": {},
   "outputs": [],
   "source": [
    "# custom loss function for model\n",
    "def triplet_loss(y_true, y_pred, alpha = 0.2):\n",
    "    anchor, positive, negative = y_pred[0], y_pred[1], y_pred[2]\n",
    "    # triplet formula components\n",
    "    pos_dist = tf.reduce_sum( tf.square(tf.subtract(y_pred[0], y_pred[1])) )\n",
    "    neg_dist = tf.reduce_sum( tf.square(tf.subtract(y_pred[0], y_pred[2])) )\n",
    "    basic_loss = pos_dist - neg_dist + alpha\n",
    "    \n",
    "    loss = tf.maximum(basic_loss, 0.0)\n",
    "   \n",
    "    return loss"
   ]
  },
  {
   "cell_type": "code",
   "execution_count": 40,
   "metadata": {},
   "outputs": [],
   "source": [
    "# for loading the facenet trained model \n",
    "def load_FRmodel():\n",
    "    return load_model('models/model.h5', custom_objects={'triplet_loss': triplet_loss})"
   ]
  },
  {
   "cell_type": "code",
   "execution_count": 17,
   "metadata": {},
   "outputs": [],
   "source": [
    "# load the saved user database\n",
    "def ini_user_database():\n",
    "    global user_db\n",
    "    # check for existing database\n",
    "    if os.path.exists('database/user_dict.pickle'):\n",
    "        with open('database/user_dict.pickle', 'rb') as handle:\n",
    "            user_db = pickle.load(handle)\n",
    "    else:\n",
    "        # make a new one\n",
    "        # we use a dict for keeping track of mapping of each person with his/her face encoding\n",
    "        user_db = defaultdict(dict)\n",
    "    return user_db"
   ]
  },
  {
   "cell_type": "code",
   "execution_count": 18,
   "metadata": {},
   "outputs": [],
   "source": [
    "# deletes a registered user from database\n",
    "def delete_user(user_db, email):\n",
    "    popped = user_db.pop(email, None)\n",
    "\n",
    "    if popped is not None:\n",
    "        print('User ' + email + ' deleted successfully')\n",
    "        # save the database\n",
    "        with open('database/user_dict.pickle', 'wb') as handle:\n",
    "                pickle.dump(user_db, handle, protocol=pickle.HIGHEST_PROTOCOL)\n",
    "        return True\n",
    "    elif popped == None:\n",
    "        print('No such user !!')\n",
    "        return False"
   ]
  },
  {
   "cell_type": "code",
   "execution_count": 19,
   "metadata": {},
   "outputs": [],
   "source": [
    "# adds a new user face to the database using his/her image stored on disk using the image path\n",
    "def add_user_img_path(user_db, FRmodel, email, name, gender, password, img_path):\n",
    "    if email not in user_db:\n",
    "        user_db[email]['encoding'] = img_to_encoding(img_path, FRmodel)\n",
    "        user_db[email]['name'] = name\n",
    "        user_db[email]['gender'] = gender\n",
    "        user_db[email]['password'] = password\n",
    "        # save the database\n",
    "        with open('database/user_dict.pickle', 'wb') as handle:\n",
    "                pickle.dump(user_db, handle, protocol=pickle.HIGHEST_PROTOCOL)\n",
    "        print('User ' + name + ' added successfully')\n",
    "        return True\n",
    "    else:\n",
    "        print('The name is already registered! Try a different name.........')\n",
    "        return False"
   ]
  },
  {
   "cell_type": "code",
   "execution_count": 20,
   "metadata": {},
   "outputs": [],
   "source": [
    "# adds a new user using image taken from webcam\n",
    "def add_user_webcam(user_db, FRmodel, email, name, gender, password):\n",
    "    # we can use the webcam to capture the user image then get it recognized\n",
    "    face_found = detect_face(user_db, FRmodel)\n",
    "\n",
    "    if face_found:\n",
    "        resize_img(\"saved_image/1.jpg\")\n",
    "        if email not in user_db:\n",
    "            return add_user_img_path(user_db, FRmodel, email, name, gender, password, \"saved_image/1.jpg\")\n",
    "        else:\n",
    "            print('The name is already registered! Try a different name.........')\n",
    "            return True\n",
    "    else:\n",
    "        print('There was no face found in the visible frame. Try again...........')\n",
    "        return False"
   ]
  },
  {
   "cell_type": "code",
   "execution_count": 73,
   "metadata": {},
   "outputs": [],
   "source": [
    "# for getting databse details\n",
    "def get_details(user_db, email = None, view_all = False):\n",
    "    print('Total users: ' + str(len(user_db)))\n",
    "    \n",
    "    if email is  not None and email in user_db:\n",
    "        print('Requested user')\n",
    "        print(user_db[email])\n",
    "    else:\n",
    "        print('User not registered !')\n",
    "    if view_all:\n",
    "        for user in user_db.keys():\n",
    "            print(user)\n",
    "            print('Email: ' + str(user))\n",
    "            print('Name: ' + user_db[user]['name'])\n",
    "            print('Password: ' + user_db[user]['password'])\n",
    "            print('Gender: ' + user_db[user]['gender'])\n",
    "            print()"
   ]
  },
  {
   "cell_type": "code",
   "execution_count": 11,
   "metadata": {},
   "outputs": [],
   "source": [
    "usr['susanta@gmail.com']['name'] = 'Susanta'\n",
    "usr['susanta@gmail.com']['gender'] = 'male'\n",
    "usr['susanta@gmail.com']['password'] = '1234'\n",
    "usr['susanta@gmail.com']['encoding'] = user_db['susanta']"
   ]
  },
  {
   "cell_type": "code",
   "execution_count": 12,
   "metadata": {
    "collapsed": true
   },
   "outputs": [
    {
     "data": {
      "text/plain": [
       "defaultdict(dict,\n",
       "            {'susanta@gmail.com': {'encoding': array([[  3.30762528e-02,   5.75094558e-02,   5.92458248e-02,\n",
       "                        1.51845574e-01,   3.49137448e-02,   1.97520778e-01,\n",
       "                        7.38851400e-03,  -1.77157775e-01,   7.75249898e-02,\n",
       "                       -7.89437443e-02,  -6.45610970e-03,   1.03796571e-01,\n",
       "                       -1.49939265e-02,  -6.47423416e-02,   7.04578385e-02,\n",
       "                       -8.20225254e-02,   6.66469848e-03,   2.54558418e-02,\n",
       "                       -2.90378407e-02,   3.88427749e-02,  -1.48335369e-02,\n",
       "                        8.84569995e-03,   1.95921585e-02,   2.41320252e-01,\n",
       "                        6.61458150e-02,  -1.14953406e-01,  -7.14364573e-02,\n",
       "                       -1.15623966e-01,  -1.03269711e-01,   7.06530511e-02,\n",
       "                        1.44376650e-01,   1.12433530e-01,  -2.54705641e-02,\n",
       "                        1.29137665e-01,   3.59049179e-02,   6.27402216e-02,\n",
       "                        1.10724546e-01,  -1.23659670e-02,  -2.82870866e-02,\n",
       "                       -8.94204248e-03,   1.36604577e-01,  -8.06270838e-02,\n",
       "                        1.78633090e-02,  -1.50322124e-01,  -8.29108059e-02,\n",
       "                       -1.14258312e-01,   7.56754130e-02,   1.02677243e-02,\n",
       "                        6.08142558e-03,   6.31921291e-02,   1.00649163e-01,\n",
       "                       -9.25827250e-02,   1.39176741e-01,  -2.34813825e-03,\n",
       "                        1.16558343e-01,   9.14098695e-02,  -7.07015693e-02,\n",
       "                        8.50308836e-02,  -2.07891148e-02,  -4.96239364e-02,\n",
       "                       -1.31584287e-01,   7.28481412e-02,   2.10405290e-02,\n",
       "                       -3.32587779e-01,   1.24654412e-01,   7.83952102e-02,\n",
       "                        1.00886218e-01,  -1.16056703e-01,  -2.55088419e-01,\n",
       "                        1.09748408e-01,  -5.63318022e-02,   6.18169047e-02,\n",
       "                       -8.81325155e-02,   6.45316541e-02,   6.76563233e-02,\n",
       "                        3.32117043e-02,   5.37258424e-02,  -3.90280262e-02,\n",
       "                        1.63720716e-02,   6.51068166e-02,  -6.11693002e-02,\n",
       "                        7.77046680e-02,   2.76393034e-02,  -4.02581319e-02,\n",
       "                        3.94857042e-02,  -4.18467410e-02,   7.39944121e-03,\n",
       "                       -4.46260273e-02,  -1.09527804e-01,   8.98540094e-02,\n",
       "                        3.52025628e-02,  -1.34677410e-01,   1.46637812e-01,\n",
       "                        3.08827609e-02,  -6.38117343e-02,   2.01415457e-03,\n",
       "                       -2.31310297e-02,  -3.44402865e-02,   8.02735686e-02,\n",
       "                        1.81327760e-02,   4.97082807e-02,  -1.03528909e-02,\n",
       "                       -9.54463035e-02,   8.76484662e-02,   3.56750656e-03,\n",
       "                        3.83102410e-02,   1.00299927e-04,  -1.02754645e-01,\n",
       "                       -1.51910678e-01,   7.99221322e-02,  -4.56592478e-02,\n",
       "                        6.95560202e-02,   6.92964494e-02,  -4.31537814e-02,\n",
       "                       -2.50047725e-02,  -1.91881433e-02,  -7.32762888e-02,\n",
       "                        1.37733696e-02,  -2.48077232e-02,   1.39138907e-01,\n",
       "                        1.25752866e-01,   3.07185896e-04,  -3.96556072e-02,\n",
       "                       -5.24302898e-03,   3.93467918e-02,   1.31789833e-01,\n",
       "                        1.73556451e-02,  -5.39249592e-02]], dtype=float32),\n",
       "              'gender': 'male',\n",
       "              'name': 'Susanta',\n",
       "              'password': '1234'}})"
      ]
     },
     "execution_count": 12,
     "metadata": {},
     "output_type": "execute_result"
    }
   ],
   "source": [
    "usr"
   ]
  },
  {
   "cell_type": "code",
   "execution_count": 41,
   "metadata": {},
   "outputs": [],
   "source": [
    "FRmodel = load_FRmodel()"
   ]
  },
  {
   "cell_type": "code",
   "execution_count": 21,
   "metadata": {},
   "outputs": [],
   "source": [
    "user_db = ini_user_database()"
   ]
  },
  {
   "cell_type": "code",
   "execution_count": 46,
   "metadata": {},
   "outputs": [
    {
     "name": "stdout",
     "output_type": "stream",
     "text": [
      "The name is already registered! Try a different name.........\n"
     ]
    },
    {
     "data": {
      "text/plain": [
       "False"
      ]
     },
     "execution_count": 46,
     "metadata": {},
     "output_type": "execute_result"
    }
   ],
   "source": [
    "add_user_img_path(user_db, FRmodel, 'susanta@gmail.com', 'Susanta', 'male', '1234', \"saved_image/1.jpg\")"
   ]
  },
  {
   "cell_type": "code",
   "execution_count": 45,
   "metadata": {},
   "outputs": [
    {
     "name": "stdout",
     "output_type": "stream",
     "text": [
      "The name is already registered! Try a different name.........\n"
     ]
    },
    {
     "data": {
      "text/plain": [
       "True"
      ]
     },
     "execution_count": 45,
     "metadata": {},
     "output_type": "execute_result"
    }
   ],
   "source": [
    "add_user_webcam(user_db, FRmodel, 'susanta@gmail.com', 'Susanta', 'male', '1234')"
   ]
  },
  {
   "cell_type": "code",
   "execution_count": 43,
   "metadata": {},
   "outputs": [
    {
     "name": "stdout",
     "output_type": "stream",
     "text": [
      "User susanta@gmail.com deleted successfully\n"
     ]
    },
    {
     "data": {
      "text/plain": [
       "True"
      ]
     },
     "execution_count": 43,
     "metadata": {},
     "output_type": "execute_result"
    }
   ],
   "source": [
    "delete_user(user_db, 'susanta@gmail.com')"
   ]
  },
  {
   "cell_type": "code",
   "execution_count": 72,
   "metadata": {},
   "outputs": [
    {
     "name": "stdout",
     "output_type": "stream",
     "text": [
      "Total users: 1\n",
      "User not registered !\n",
      "susanta@gmail.com\n",
      "Email: susanta@gmail.com\n",
      "\tName: Susanta\n",
      "\tPassword: 1234\n",
      "\tGender: male\n",
      "\n"
     ]
    }
   ],
   "source": [
    "get_details(user_db, email = None, view_all = True)"
   ]
  },
  {
   "cell_type": "code",
   "execution_count": null,
   "metadata": {},
   "outputs": [],
   "source": []
  }
 ],
 "metadata": {
  "kernelspec": {
   "display_name": "Python 3",
   "language": "python",
   "name": "python3"
  },
  "language_info": {
   "codemirror_mode": {
    "name": "ipython",
    "version": 3
   },
   "file_extension": ".py",
   "mimetype": "text/x-python",
   "name": "python",
   "nbconvert_exporter": "python",
   "pygments_lexer": "ipython3",
   "version": "3.6.3"
  }
 },
 "nbformat": 4,
 "nbformat_minor": 2
}
